{
 "cells": [
  {
   "cell_type": "code",
   "execution_count": 92,
   "id": "f0327652",
   "metadata": {},
   "outputs": [],
   "source": [
    "#importing libraries\n",
    "import numpy as np\n",
    "import matplotlib.pyplot as plt\n",
    "import tensorflow as tf\n",
    "from keras.preprocessing.image import ImageDataGenerator"
   ]
  },
  {
   "cell_type": "code",
   "execution_count": 93,
   "id": "e18925ec",
   "metadata": {},
   "outputs": [
    {
     "name": "stdout",
     "output_type": "stream",
     "text": [
      "Found 23000 images belonging to 2 classes.\n"
     ]
    }
   ],
   "source": [
    "#Initializing dataset\n",
    "train_datagen = ImageDataGenerator(\n",
    "        rescale=1./255,\n",
    "        shear_range=0.2,\n",
    "        zoom_range=0.2,\n",
    "        horizontal_flip=True)\n",
    "\n",
    "train_generator = train_datagen.flow_from_directory(\n",
    "        'C:/Users/yyasw/Downloads/archive (2)/dogscats/train',\n",
    "        target_size=(128, 128),\n",
    "        batch_size=32,\n",
    "        class_mode='binary')"
   ]
  },
  {
   "cell_type": "code",
   "execution_count": 94,
   "id": "c3ef621e",
   "metadata": {},
   "outputs": [
    {
     "name": "stdout",
     "output_type": "stream",
     "text": [
      "Found 12500 images belonging to 1 classes.\n"
     ]
    }
   ],
   "source": [
    "test_datagen = ImageDataGenerator(rescale=1./255)\n",
    "\n",
    "validation_generator = test_datagen.flow_from_directory(\n",
    "        'C:/Users/yyasw/Downloads/archive (2)/dogscats/test1',\n",
    "        target_size=(128, 128),\n",
    "        batch_size=32,\n",
    "        class_mode='binary')"
   ]
  },
  {
   "cell_type": "code",
   "execution_count": 95,
   "id": "2c0b4c1a",
   "metadata": {},
   "outputs": [],
   "source": [
    "cnn = tf.keras.models.Sequential()"
   ]
  },
  {
   "cell_type": "code",
   "execution_count": 96,
   "id": "7b96e83d",
   "metadata": {},
   "outputs": [],
   "source": [
    "#Convoution Layer\n",
    "\n",
    "cnn.add(tf.keras.layers.Conv2D(filters = 32, kernel_size = 2, activation = 'relu', input_shape = [128,128,3]))"
   ]
  },
  {
   "cell_type": "code",
   "execution_count": 97,
   "id": "daaa732a",
   "metadata": {},
   "outputs": [],
   "source": [
    "#Pooling\n",
    "\n",
    "cnn.add(tf.keras.layers.MaxPool2D(pool_size = 2,strides = 2))"
   ]
  },
  {
   "cell_type": "code",
   "execution_count": 98,
   "id": "4486e3f0",
   "metadata": {},
   "outputs": [],
   "source": [
    "cnn.add(tf.keras.layers.Conv2D(filters = 32, kernel_size = 2, activation = 'relu'))\n",
    "\n",
    "cnn.add(tf.keras.layers.MaxPool2D(pool_size = 2,strides = 2))"
   ]
  },
  {
   "cell_type": "code",
   "execution_count": 99,
   "id": "2332b17b",
   "metadata": {},
   "outputs": [],
   "source": [
    "#Flatten\n",
    "\n",
    "cnn.add(tf.keras.layers.Flatten())"
   ]
  },
  {
   "cell_type": "code",
   "execution_count": 100,
   "id": "d084172e",
   "metadata": {},
   "outputs": [],
   "source": [
    "#Full connection\n",
    "\n",
    "cnn.add(tf.keras.layers.Dense(units = 128,activation = 'relu'))"
   ]
  },
  {
   "cell_type": "code",
   "execution_count": 101,
   "id": "e7f47c0c",
   "metadata": {},
   "outputs": [],
   "source": [
    "cnn.add(tf.keras.layers.Dense(units = 128,activation = 'softmax'))  "
   ]
  },
  {
   "cell_type": "code",
   "execution_count": 102,
   "id": "62cece8e",
   "metadata": {},
   "outputs": [],
   "source": [
    "#Output Layer\n",
    "\n",
    "cnn.add(tf.keras.layers.Dense(units = 1,activation = 'sigmoid'))"
   ]
  },
  {
   "cell_type": "code",
   "execution_count": 103,
   "id": "1d90b60b",
   "metadata": {},
   "outputs": [],
   "source": [
    "#compile the model\n",
    "\n",
    "cnn.compile(optimizer = 'adam', loss = 'binary_crossentropy', metrics = ['accuracy'])"
   ]
  },
  {
   "cell_type": "code",
   "execution_count": null,
   "id": "c1ed2192",
   "metadata": {},
   "outputs": [
    {
     "name": "stdout",
     "output_type": "stream",
     "text": [
      "Epoch 1/10\n",
      "719/719 [==============================] - 353s 489ms/step - loss: 0.6652 - accuracy: 0.6191 - val_loss: 0.8359 - val_accuracy: 0.2566\n",
      "Epoch 2/10\n",
      "719/719 [==============================] - 285s 396ms/step - loss: 0.6086 - accuracy: 0.6978 - val_loss: 0.7966 - val_accuracy: 0.4928\n",
      "Epoch 3/10\n",
      "719/719 [==============================] - 332s 461ms/step - loss: 0.5605 - accuracy: 0.7336 - val_loss: 0.8243 - val_accuracy: 0.5213\n",
      "Epoch 4/10\n",
      "719/719 [==============================] - 339s 472ms/step - loss: 0.5169 - accuracy: 0.7614 - val_loss: 0.8881 - val_accuracy: 0.5094\n",
      "Epoch 5/10\n",
      "719/719 [==============================] - 343s 478ms/step - loss: 0.4821 - accuracy: 0.7821 - val_loss: 0.8128 - val_accuracy: 0.5930\n",
      "Epoch 6/10\n",
      "719/719 [==============================] - 307s 427ms/step - loss: 0.4551 - accuracy: 0.7940 - val_loss: 1.1097 - val_accuracy: 0.4206\n",
      "Epoch 7/10\n",
      "719/719 [==============================] - 300s 417ms/step - loss: 0.4264 - accuracy: 0.8107 - val_loss: 1.0030 - val_accuracy: 0.5120\n",
      "Epoch 8/10\n",
      "719/719 [==============================] - 296s 412ms/step - loss: 0.4072 - accuracy: 0.8240 - val_loss: 1.2012 - val_accuracy: 0.4576\n",
      "Epoch 9/10\n",
      "219/719 [========>.....................] - ETA: 2:54 - loss: 0.3833 - accuracy: 0.8369"
     ]
    }
   ],
   "source": [
    "History = cnn.fit(x = train_generator,y = None, validation_data = validation_generator, epochs = 10)"
   ]
  },
  {
   "cell_type": "code",
   "execution_count": null,
   "id": "d9dceaf2",
   "metadata": {},
   "outputs": [],
   "source": [
    "cnn.summary()"
   ]
  },
  {
   "cell_type": "code",
   "execution_count": null,
   "id": "94dfcd35",
   "metadata": {
    "scrolled": true
   },
   "outputs": [],
   "source": [
    "import numpy as np\n",
    "from keras.preprocessing.image import img_to_array,load_img\n",
    "from keras.preprocessing import image\n",
    "test_image = image.load_img ('C:/Users/yyasw/Downloads/archive (2)/dogscats/predict/cat1.jpg', target_size = (128,128))\n",
    "test_image = image.img_to_array(test_image)\n",
    "test_image = np.expand_dims(test_image,axis = 0)\n",
    "result = cnn.predict(test_image)\n",
    "if result[0][0] == 1:\n",
    "    prediction = 'Dog'\n",
    "else:\n",
    "    prediction = 'Cat'\n",
    "print(prediction)\n",
    "\n",
    "\n"
   ]
  },
  {
   "cell_type": "code",
   "execution_count": 87,
   "id": "99e0a09d",
   "metadata": {},
   "outputs": [
    {
     "data": {
      "text/plain": [
       "(-0.5, 63.5, 63.5, -0.5)"
      ]
     },
     "execution_count": 87,
     "metadata": {},
     "output_type": "execute_result"
    },
    {
     "data": {
      "image/png": "[encoded data removed]",
      "text/plain": [
       "<Figure size 640x480 with 1 Axes>"
      ]
     },
     "metadata": {},
     "output_type": "display_data"
    }
   ],
   "source": [
    "plt.figure()\n",
    "plt . imshow(image . array_to_img(test_image[ 0 ]) , interpolation ='nearest')\n",
    "plt.title(\"Prediction: \"+prediction)\n",
    "plt.axis(\"off\")"
   ]
  },
  {
   "cell_type": "code",
   "execution_count": null,
   "id": "d60e56e2",
   "metadata": {},
   "outputs": [],
   "source": []
  },
  {
   "cell_type": "code",
   "execution_count": null,
   "id": "be4ff07e",
   "metadata": {},
   "outputs": [],
   "source": []
  }
 ],
 "metadata": {
  "kernelspec": {
   "display_name": "Python 3 (ipykernel)",
   "language": "python",
   "name": "python3"
  },
  "language_info": {
   "codemirror_mode": {
    "name": "ipython",
    "version": 3
   },
   "file_extension": ".py",
   "mimetype": "text/x-python",
   "name": "python",
   "nbconvert_exporter": "python",
   "pygments_lexer": "ipython3",
   "version": "3.11.4"
  }
 },
 "nbformat": 4,
 "nbformat_minor": 5
}
